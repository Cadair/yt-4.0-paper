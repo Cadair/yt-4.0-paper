{
 "cells": [
  {
   "cell_type": "markdown",
   "metadata": {},
   "source": [
    "# Selection Diagrams\n",
    "\n",
    "This notebook is for creating diagrams of how selection works, based on *real* data from the yt sample datasets.\n",
    "\n",
    "We'll construct and highlight diagrams showing selection of:\n",
    "\n",
    " * Slices\n",
    " * Regions\n",
    " * Spheres\n",
    " \n",
    "This should be straightforward since we can use the built-in yt selection routines."
   ]
  },
  {
   "cell_type": "code",
   "execution_count": 1,
   "metadata": {},
   "outputs": [],
   "source": [
    "import drawSvg as draw\n",
    "import yt\n",
    "import numpy as np\n",
    "import ipywidgets"
   ]
  },
  {
   "cell_type": "code",
   "execution_count": 2,
   "metadata": {},
   "outputs": [],
   "source": [
    "yt.utilities.logger.disable_stream_logging()"
   ]
  },
  {
   "cell_type": "code",
   "execution_count": 3,
   "metadata": {},
   "outputs": [],
   "source": [
    "#ds = yt.load(\"~/data/IsolatedGalaxy/galaxy0030/galaxy0030\")\n",
    "#ds = yt.load(\"/home/matthewturk/data/EnzoKelvinHelmholtz/DD0011/DD0011\")\n",
    "#ds = yt.load(\"/home/matthewturk/data/PopIII_mini/DD0034/DD0034\")\n",
    "ds = yt.load(\"~/data/enzo_tiny_cosmology/DD0046/DD0046\")"
   ]
  },
  {
   "cell_type": "code",
   "execution_count": 4,
   "metadata": {},
   "outputs": [
    {
     "name": "stderr",
     "output_type": "stream",
     "text": [
      "Parsing Hierarchy : 100%|██████████| 211/211 [00:00<00:00, 6182.83it/s]\n"
     ]
    }
   ],
   "source": [
    "s = ds.sphere(\"c\", 0.5)"
   ]
  },
  {
   "cell_type": "code",
   "execution_count": 5,
   "metadata": {},
   "outputs": [],
   "source": [
    "xax = 0\n",
    "yax = 1\n",
    "margin = 20\n",
    "width = height = 500"
   ]
  },
  {
   "cell_type": "code",
   "execution_count": 6,
   "metadata": {},
   "outputs": [],
   "source": [
    "def make_image_data(source):\n",
    "    selected_grids = source.selector.select_grids(\n",
    "        source.ds.index.grid_left_edge,\n",
    "        source.ds.index.grid_right_edge,\n",
    "        source.ds.index.grid_levels\n",
    "    )\n",
    "    frb = source.integrate(\"density\", axis=\"z\").to_frb(1.0, (512, 512))\n",
    "    frb_data = np.log10(frb[\"density\"][::-1,:].v)\n",
    "    frb_bitmap = yt.write_image(frb_data, None)\n",
    "    frb_bitmap[frb_data == -np.inf,3] = 0\n",
    "    image_data = yt.write_bitmap(frb_bitmap, None)\n",
    "    \n",
    "    im = draw.Image(data = image_data, x = margin, y = margin, width = width - 2*margin,\n",
    "                height = height - 2*margin, mimeType=\"image/png\", opacity = 1)\n",
    "    return im, selected_grids"
   ]
  },
  {
   "cell_type": "code",
   "execution_count": 7,
   "metadata": {},
   "outputs": [],
   "source": [
    "def make_svg(source, selected = 'black', unselected = 'grey', show_image = True):\n",
    "    c = draw.Drawing(width = width, height = height)\n",
    "\n",
    "    im, sg = make_image_data(source)\n",
    "\n",
    "    if show_image:\n",
    "        c.append(im)\n",
    "\n",
    "    scale_x = lambda v: margin + (width - 2*margin) * v\n",
    "    scale_y = lambda v: margin + (height - 2*margin) * v\n",
    "    domain = draw.Rectangle(scale_x(0), scale_y(0),\n",
    "                            scale_x(1.0) - scale_x(0.0),\n",
    "                            scale_y(1.0) - scale_y(0.0),\n",
    "                            fill = 'none', stroke_width=2.0,\n",
    "                            stroke = 'black')\n",
    "    c.append(domain)\n",
    "    def draw_grid(stroke, stroke_width, LE, RE):\n",
    "        grid_outline = draw.Rectangle(\n",
    "            scale_x(LE[xax]),\n",
    "            scale_y(LE[yax]),\n",
    "            scale_x(RE[xax]) - scale_x(LE[xax]),\n",
    "            scale_y(RE[yax]) - scale_y(LE[yax]),\n",
    "            fill = '#AAAAAA', fill_opacity=0.0, stroke = stroke, stroke_width=stroke_width)\n",
    "        return grid_outline\n",
    "    [c.append(draw_grid(unselected, 0.5, grid.LeftEdge.v, grid.RightEdge.v)) for grid in ds.index.grids[~sg]]\n",
    "    [c.append(draw_grid(selected, 1.0, grid.LeftEdge.v, grid.RightEdge.v)) for grid in ds.index.grids[sg]]\n",
    "    return c"
   ]
  },
  {
   "cell_type": "code",
   "execution_count": 8,
   "metadata": {},
   "outputs": [],
   "source": [
    "cv = (0.0, 1.0, 0.01)"
   ]
  },
  {
   "cell_type": "code",
   "execution_count": 9,
   "metadata": {},
   "outputs": [
    {
     "data": {
      "application/vnd.jupyter.widget-view+json": {
       "model_id": "4e5ceb43b0fb45c0a34171ea67e8583e",
       "version_major": 2,
       "version_minor": 0
      },
      "text/plain": [
       "interactive(children=(FloatSlider(value=0.0, description='left_edge_x', max=1.0, step=0.01), FloatSlider(value…"
      ]
     },
     "metadata": {},
     "output_type": "display_data"
    }
   ],
   "source": [
    "@ipywidgets.interact(left_edge_x = cv, left_edge_y = cv, left_edge_z = cv,\n",
    "                     right_edge_x = cv, right_edge_y = cv, right_edge_z = cv)\n",
    "def make_reg(left_edge_x = 0.0, left_edge_y = 0.0, left_edge_z = 0.0,\n",
    "             right_edge_x = 1.0, right_edge_y = 1.0, right_edge_z = 1.0):\n",
    "    r = ds.r[left_edge_x:right_edge_x, left_edge_y:right_edge_y, left_edge_z:right_edge_z]\n",
    "    return make_svg(r, 'black', 'grey')"
   ]
  },
  {
   "cell_type": "code",
   "execution_count": 10,
   "metadata": {},
   "outputs": [
    {
     "data": {
      "application/vnd.jupyter.widget-view+json": {
       "model_id": "9c43a3daeffc4357a600ba11987314f7",
       "version_major": 2,
       "version_minor": 0
      },
      "text/plain": [
       "interactive(children=(FloatSlider(value=0.5, description='center_x', max=1.0, step=0.01), FloatSlider(value=0.…"
      ]
     },
     "metadata": {},
     "output_type": "display_data"
    }
   ],
   "source": [
    "@ipywidgets.interact(center_x = cv, center_y = cv, center_z = cv, radius = cv,\n",
    "                    show_image = True)\n",
    "def make_sphere(center_x = 0.5, center_y = 0.5, center_z = 0.5,\n",
    "             radius = 0.15, show_image = True):\n",
    "    c = make_svg(ds.sphere((center_x, center_y, center_z), radius), 'black', 'grey', show_image = show_image)\n",
    "    return c"
   ]
  },
  {
   "cell_type": "code",
   "execution_count": 11,
   "metadata": {},
   "outputs": [
    {
     "name": "stderr",
     "output_type": "stream",
     "text": [
      "/home/matthewturk/conda-py3/lib/python3.7/site-packages/ipykernel_launcher.py:8: RuntimeWarning: divide by zero encountered in log10\n",
      "  \n"
     ]
    }
   ],
   "source": [
    "sp1 = ds.sphere(\"c\", 0.20)\n",
    "sp1_svg = make_svg(sp1)\n",
    "sp1_svg.saveSvg(\"../content/images/selectors/sp1.svg\")\n",
    "\n",
    "sp2 = ds.sphere((0.7, 0.7, 0.5), 0.25)\n",
    "sp2_svg = make_svg(sp2)\n",
    "sp2_svg.saveSvg(\"../content/images/selectors/sp2.svg\")\n",
    "\n",
    "dobj1 = sp1 + sp2\n",
    "dobj1_svg = make_svg(dobj1)\n",
    "dobj1_svg.saveSvg(\"../content/images/selectors/sp1_and_sp2.svg\")\n",
    "\n",
    "reg1 = ds.r[0.2:0.3,0.2:0.3,:]\n",
    "reg1_svg = make_svg(reg1)\n",
    "reg1_svg.saveSvg(\"../content/images/selectors/reg1.svg\")\n",
    "\n",
    "reg2 = ds.r[0.4:0.95, 0.4:0.95, 0.4:0.6]\n",
    "reg2_svg = make_svg(reg2)\n",
    "reg2_svg.saveSvg(\"../content/images/selectors/reg2.svg\")\n",
    "\n",
    "dobj2 = reg2 - sp2\n",
    "dobj2_svg = make_svg(dobj2)\n",
    "dobj2_svg.saveSvg(\"../content/images/selectors/reg2_not_sp2.svg\")"
   ]
  }
 ],
 "metadata": {
  "kernelspec": {
   "display_name": "Python 3",
   "language": "python",
   "name": "python3"
  },
  "language_info": {
   "codemirror_mode": {
    "name": "ipython",
    "version": 3
   },
   "file_extension": ".py",
   "mimetype": "text/x-python",
   "name": "python",
   "nbconvert_exporter": "python",
   "pygments_lexer": "ipython3",
   "version": "3.7.3"
  }
 },
 "nbformat": 4,
 "nbformat_minor": 4
}
